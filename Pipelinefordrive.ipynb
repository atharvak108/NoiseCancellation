{
  "nbformat": 4,
  "nbformat_minor": 0,
  "metadata": {
    "colab": {
      "provenance": []
    },
    "kernelspec": {
      "name": "python3",
      "display_name": "Python 3"
    },
    "language_info": {
      "name": "python"
    }
  },
  "cells": [
    {
      "cell_type": "code",
      "execution_count": null,
      "metadata": {
        "id": "yzHleB4fV31u"
      },
      "outputs": [],
      "source": [
        "import numpy as np\n",
        "import pandas as pd\n",
        "import matplotlib.pyplot as plt\n",
        "import seaborn as sns\n",
        "\n",
        "import os\n",
        "import librosa\n",
        "import librosa.display\n",
        "import glob\n",
        "import skimage\n",
        "from pydrive.auth import GoogleAuth\n",
        "from pydrive.drive import GoogleDrive"
      ]
    },
    {
      "cell_type": "code",
      "source": [
        "from google.colab import drive\n",
        "drive.mount('/content/drive')"
      ],
      "metadata": {
        "colab": {
          "base_uri": "https://localhost:8080/"
        },
        "id": "_-f78nVHWR_T",
        "outputId": "4c65d18c-10a7-4d4b-9baf-f7096171fd29"
      },
      "execution_count": null,
      "outputs": [
        {
          "output_type": "stream",
          "name": "stdout",
          "text": [
            "Mounted at /content/drive\n"
          ]
        }
      ]
    },
    {
      "cell_type": "code",
      "source": [
        "def create_and_save_masks(clear_noise_path, background_noise_path, mask_output_path):\n",
        "    # List files in the CV (clear noise) and BG (background noise) folders\n",
        "    clear_noise_files = os.listdir(clear_noise_path)\n",
        "    background_noise_files = os.listdir(background_noise_path)\n",
        "\n",
        "    for clear_file in clear_noise_files:\n",
        "        clear_name, _ = os.path.splitext(clear_file)\n",
        "\n",
        "        for bg_file in background_noise_files:\n",
        "            bg_name, _ = os.path.splitext(bg_file)\n",
        "            cvpathtoload = os.path.join(clear_noise_path, clear_file)\n",
        "            bgpathtoload = os.path.join(background_noise_path, bg_file)\n",
        "            # Load clear and background noise audio files\n",
        "\n",
        "            clear_noise, sr = librosa.load(f'{cvpathtoload}')\n",
        "            background_noise, _ = librosa.load(f'{bgpathtoload}')\n",
        "            clear_noise = clear_noise[:25000]\n",
        "            background_noise = background_noise[:25000]\n",
        "\n",
        "            # Compute the spectrograms\n",
        "            stft_clear_noise = librosa.core.stft(clear_noise, n_fft=2048, hop_length=512)\n",
        "            stft_background_noise = librosa.core.stft(background_noise, n_fft=2048, hop_length=512)\n",
        "            bgn = np.abs(stft_background_noise)\n",
        "            cn = np.abs(stft_clear_noise)\n",
        "\n",
        "            # Calculate the mask using the formula\n",
        "            mask = bgn / (cn + bgn + 1e-6)\n",
        "\n",
        "            # Save the mask as a spectrogram in the MASK folder\n",
        "            plt.figure(figsize=(10, 6))\n",
        "            librosa.display.specshow(mask, sr=sr, hop_length=512)\n",
        "\n",
        "            # Remove color bar\n",
        "            plt.colorbar(format=None)\n",
        "\n",
        "            # Remove title\n",
        "            plt.title('')\n",
        "\n",
        "            # Remove white borders\n",
        "            plt.gca().xaxis.set_major_locator(plt.NullLocator())\n",
        "            plt.gca().yaxis.set_major_locator(plt.NullLocator())\n",
        "\n",
        "            # Save the mask spectrogram\n",
        "            mask_file_name = f\"{clear_name}_{bg_name}_mask.jpg\"  # You can choose a different image format (e.g., .png, .jpg)\n",
        "            plt.savefig(f'/content/drive/My Drive/SPECS/BGSPECS/{mask_file_name}', format='jpg', bbox_inches='tight', pad_inches=0)\n",
        "            plt.close()\n",
        "\n",
        "# Paths to the folders\n",
        "clear_noise_path = '/content/drive/MyDrive/NCFOML/CV'\n",
        "background_noise_path = '/content/drive/MyDrive/NCFOML/BG'\n",
        "mask_output_path = '/content/drive/MyDrive/SPECS/MASKSPECS'\n",
        "\n",
        "# Call the function to create and save masks for each type of background noise\n",
        "create_and_save_masks(clear_noise_path, background_noise_path, mask_output_path)"
      ],
      "metadata": {
        "id": "ZCMEEGV-WZ3P"
      },
      "execution_count": null,
      "outputs": []
    },
    {
      "cell_type": "code",
      "source": [
        "import os\n",
        "import librosa\n",
        "import numpy as np\n",
        "import librosa.display\n",
        "import matplotlib.pyplot as plt\n",
        "\n",
        "def create_and_save_starget(clear_noise_path):\n",
        "    # Load audio files\n",
        "    background_noise_path = '/content/drive/MyDrive/NCFOML/BG/bgnoisecant.m4a'\n",
        "    clear_noise, sr = librosa.load(clear_noise_path)\n",
        "    background_noise, _ = librosa.load(background_noise_path)\n",
        "    clear_noise = clear_noise[:25000]\n",
        "    background_noise = background_noise[:25000]\n",
        "    # combined_voice, _ = librosa.load(combined_voice_path)\n",
        "\n",
        "    # Compute the spectrograms\n",
        "    stft_clear_noise = np.abs(librosa.core.stft(clear_noise, n_fft=2048, hop_length=512))\n",
        "    stft_background_noise = np.abs(librosa.core.stft(background_noise, n_fft=2048, hop_length=512))\n",
        "    # stft_combined_voice = librosa.core.stft(combined_voice, n_fft=2048, hop_length=512)\n",
        "\n",
        "    # Calculate the mask using the given formula\n",
        "    mask = stft_background_noise / (stft_clear_noise + stft_background_noise+ 1e-06)\n",
        "\n",
        "    # Calculate starget\n",
        "    # starget = mask * stft_combined_voice\n",
        "\n",
        "    # Convert starget to a log spectrogram\n",
        "    log_spectogram = librosa.amplitude_to_db(mask)\n",
        "\n",
        "    # Create a unique filename\n",
        "    file_name = os.path.basename(clear_noise_path)  # Use the clear noise filename for naming the spectrogram\n",
        "\n",
        "    # Plot and save the spectrogram of starget\n",
        "    plt.figure(figsize=(10, 6))\n",
        "    librosa.display.specshow(log_spectogram, sr=sr, hop_length=512)\n",
        "\n",
        "    # Remove title\n",
        "    plt.title('')\n",
        "\n",
        "    # Remove white borders\n",
        "    plt.gca().xaxis.set_major_locator(plt.NullLocator())\n",
        "    plt.gca().yaxis.set_major_locator(plt.NullLocator())\n",
        "    output_path = '/content/drive/MyDrive/SPECS/MASKSPECS'\n",
        "\n",
        "    # Save the image without borders, color bar, and title\n",
        "    plt.savefig(os.path.join(output_path, f\"{file_name}_masked_spectrogram_cant.jpg\"), format='jpg', bbox_inches='tight', pad_inches=0)\n",
        "    plt.close()\n",
        "\n",
        "    return file_name\n",
        "\n",
        "# Paths to the audio files and output folder\n",
        "# clear_noise_path = '/path/to/clear_noise.wav'\n",
        "# combined_voice_path = '/path/to/combined_voice.wav'\n",
        "# output_path = '/path/to/output_folder'\n",
        "\n",
        "# Call the function to create and save the spectrogram of starget\n"
      ],
      "metadata": {
        "id": "-SVl_i9SW-4H"
      },
      "execution_count": null,
      "outputs": []
    },
    {
      "cell_type": "code",
      "source": [
        "import os\n",
        "\n",
        "def process_files(source_folder_path):\n",
        "    # List files in the source folder\n",
        "    source_files = os.listdir(source_folder_path)\n",
        "\n",
        "    for file_name in source_files:\n",
        "        # Create the full file path\n",
        "        file_path = os.path.join(source_folder_path, file_name)\n",
        "\n",
        "        # Assuming you have clear noise and background noise folders\n",
        "        # clear_noise_path = os.path.join(clear_noise_folder_path, file_name)  # Adjust as needed\n",
        "        # background_noise_path = os.path.join(background_noise_folder_path, file_name)  # Adjust as needed\n",
        "\n",
        "        # Call the function to create and save the spectrogram of the mask\n",
        "        create_and_save_starget(file_path)\n",
        "\n",
        "# Paths to the source folder and output folder\n",
        "source_folder_path = '/content/drive/MyDrive/NCFOML/CV'\n",
        "# output_folder_path = '/path/to/output_folder'\n",
        "\n",
        "# Call the function to process files and create spectrogram images for masks\n",
        "process_files(source_folder_path)\n",
        "\n"
      ],
      "metadata": {
        "id": "ajI5_NJebH8a"
      },
      "execution_count": null,
      "outputs": []
    },
    {
      "cell_type": "code",
      "source": [],
      "metadata": {
        "id": "sCur4pp1cK5U"
      },
      "execution_count": null,
      "outputs": []
    }
  ]
}